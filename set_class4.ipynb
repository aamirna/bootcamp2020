{
  "nbformat": 4,
  "nbformat_minor": 0,
  "metadata": {
    "colab": {
      "name": "set-class4.ipynb",
      "provenance": [],
      "collapsed_sections": [],
      "authorship_tag": "ABX9TyMldQSM8omctHbhq59hLyhv",
      "include_colab_link": true
    },
    "kernelspec": {
      "name": "python3",
      "display_name": "Python 3"
    }
  },
  "cells": [
    {
      "cell_type": "markdown",
      "metadata": {
        "id": "view-in-github",
        "colab_type": "text"
      },
      "source": [
        "<a href=\"https://colab.research.google.com/github/aamirna/bootcamp2020/blob/master/set_class4.ipynb\" target=\"_parent\"><img src=\"https://colab.research.google.com/assets/colab-badge.svg\" alt=\"Open In Colab\"/></a>"
      ]
    },
    {
      "cell_type": "code",
      "metadata": {
        "colab": {
          "base_uri": "https://localhost:8080/"
        },
        "id": "7NHh9dkwbFjl",
        "outputId": "c4dc7379-d240-4e15-9522-c735624313ba"
      },
      "source": [
        "aSet = {2,3,4,3,4,5,6,6,7,8,8}\r\n",
        "aSet"
      ],
      "execution_count": 7,
      "outputs": [
        {
          "output_type": "execute_result",
          "data": {
            "text/plain": [
              "{2, 3, 4, 5, 6, 7, 8}"
            ]
          },
          "metadata": {
            "tags": []
          },
          "execution_count": 7
        }
      ]
    },
    {
      "cell_type": "code",
      "metadata": {
        "colab": {
          "base_uri": "https://localhost:8080/"
        },
        "id": "rY3XDwN_dGpi",
        "outputId": "3f2f3c24-9678-40e3-98b4-a69b2da243a5"
      },
      "source": [
        "set.pop(aSet)"
      ],
      "execution_count": 8,
      "outputs": [
        {
          "output_type": "execute_result",
          "data": {
            "text/plain": [
              "2"
            ]
          },
          "metadata": {
            "tags": []
          },
          "execution_count": 8
        }
      ]
    },
    {
      "cell_type": "code",
      "metadata": {
        "colab": {
          "base_uri": "https://localhost:8080/"
        },
        "id": "Pj7_VQTageTu",
        "outputId": "e270faf7-4514-4b1e-b8c3-fe29bbb057ed"
      },
      "source": [
        "aSet.update({\"aamir\"})\r\n",
        "aSet"
      ],
      "execution_count": 18,
      "outputs": [
        {
          "output_type": "execute_result",
          "data": {
            "text/plain": [
              "{3, 4, 5, 6, 7, 8, 'a', 'aamir', 'i', 'm', 'r'}"
            ]
          },
          "metadata": {
            "tags": []
          },
          "execution_count": 18
        }
      ]
    },
    {
      "cell_type": "code",
      "metadata": {
        "colab": {
          "base_uri": "https://localhost:8080/"
        },
        "id": "rmz5-6D7jcD7",
        "outputId": "dcd74648-31af-4a2f-b464-ffd090fe0171"
      },
      "source": [
        "aSet.add(100)\r\n",
        "aSet"
      ],
      "execution_count": 20,
      "outputs": [
        {
          "output_type": "execute_result",
          "data": {
            "text/plain": [
              "{100, 3, 4, 5, 6, 7, 8, 'a', 'aamir', 'i', 'm', 'r'}"
            ]
          },
          "metadata": {
            "tags": []
          },
          "execution_count": 20
        }
      ]
    },
    {
      "cell_type": "markdown",
      "metadata": {
        "id": "tl48KFHEkzVJ"
      },
      "source": [
        "#Dictionary"
      ]
    },
    {
      "cell_type": "code",
      "metadata": {
        "colab": {
          "base_uri": "https://localhost:8080/"
        },
        "id": "imXG5XKkk39o",
        "outputId": "983f5bb6-db3f-4832-e891-b5ca5f9e041b"
      },
      "source": [
        "adic = {23}\r\n",
        "bdic = {}\r\n",
        "type(adic), type(bdic)"
      ],
      "execution_count": 21,
      "outputs": [
        {
          "output_type": "execute_result",
          "data": {
            "text/plain": [
              "(set, dict)"
            ]
          },
          "metadata": {
            "tags": []
          },
          "execution_count": 21
        }
      ]
    },
    {
      "cell_type": "code",
      "metadata": {
        "colab": {
          "base_uri": "https://localhost:8080/"
        },
        "id": "MEtDGttflPow",
        "outputId": "cdcc1243-6788-4c04-a6f4-202119915f4f"
      },
      "source": [
        "dictionary = {'name':'aamir', 'age':50, 'Qual':\"BS\", 'Exp':5}\r\n",
        "dictionary"
      ],
      "execution_count": 24,
      "outputs": [
        {
          "output_type": "execute_result",
          "data": {
            "text/plain": [
              "{'Exp': 5, 'Qual': 'BS', 'age': 50, 'name': 'aamir'}"
            ]
          },
          "metadata": {
            "tags": []
          },
          "execution_count": 24
        }
      ]
    },
    {
      "cell_type": "code",
      "metadata": {
        "colab": {
          "base_uri": "https://localhost:8080/"
        },
        "id": "hMobRbQwmefJ",
        "outputId": "54f56301-93bb-4492-c2fe-4b2f0a6b7dd0"
      },
      "source": [
        "dictionary[\"name\"]=\"ali\"\r\n",
        "dictionary[\"age\"]= 30\r\n",
        "dictionary[\"Exp\"]= 6\r\n",
        "\r\n",
        "\r\n",
        "\r\n",
        "dictionary"
      ],
      "execution_count": 49,
      "outputs": [
        {
          "output_type": "execute_result",
          "data": {
            "text/plain": [
              "{'Exp': 6, 'age': 30, 'name': 'ali'}"
            ]
          },
          "metadata": {
            "tags": []
          },
          "execution_count": 49
        }
      ]
    },
    {
      "cell_type": "code",
      "metadata": {
        "colab": {
          "base_uri": "https://localhost:8080/"
        },
        "id": "oh7F2pg2n9IA",
        "outputId": "3dc10a4c-72e9-478a-9d51-efeb5162b760"
      },
      "source": [
        "dictionary\r\n",
        "for v,k in enumerate(dictionary.items()):\r\n",
        "  print(v,k)"
      ],
      "execution_count": 53,
      "outputs": [
        {
          "output_type": "stream",
          "text": [
            "0 ('name', 'ali')\n",
            "1 ('age', 30)\n",
            "2 ('Exp', 6)\n"
          ],
          "name": "stdout"
        }
      ]
    },
    {
      "cell_type": "code",
      "metadata": {
        "colab": {
          "base_uri": "https://localhost:8080/",
          "height": 35
        },
        "id": "ipxeWOSHopSy",
        "outputId": "2faa156d-5733-4a42-e0eb-9690ec16c9e9"
      },
      "source": [
        "dictionary.pop('name')"
      ],
      "execution_count": 56,
      "outputs": [
        {
          "output_type": "execute_result",
          "data": {
            "application/vnd.google.colaboratory.intrinsic+json": {
              "type": "string"
            },
            "text/plain": [
              "'ali'"
            ]
          },
          "metadata": {
            "tags": []
          },
          "execution_count": 56
        }
      ]
    },
    {
      "cell_type": "code",
      "metadata": {
        "colab": {
          "base_uri": "https://localhost:8080/"
        },
        "id": "NAGLkW1BrYPp",
        "outputId": "41705cbd-d1d0-45b5-f586-09a1b9f003fa"
      },
      "source": [
        "dictionary.items()"
      ],
      "execution_count": 57,
      "outputs": [
        {
          "output_type": "execute_result",
          "data": {
            "text/plain": [
              "dict_items([('age', 30), ('Exp', 6)])"
            ]
          },
          "metadata": {
            "tags": []
          },
          "execution_count": 57
        }
      ]
    },
    {
      "cell_type": "code",
      "metadata": {
        "colab": {
          "base_uri": "https://localhost:8080/"
        },
        "id": "CPQWJSr1rly8",
        "outputId": "633881e2-1f05-45ba-8ed7-8dc10a0f493e"
      },
      "source": [
        "dictionary.values()"
      ],
      "execution_count": 58,
      "outputs": [
        {
          "output_type": "execute_result",
          "data": {
            "text/plain": [
              "dict_values([30, 6])"
            ]
          },
          "metadata": {
            "tags": []
          },
          "execution_count": 58
        }
      ]
    },
    {
      "cell_type": "code",
      "metadata": {
        "colab": {
          "base_uri": "https://localhost:8080/"
        },
        "id": "7w_5J9sJrwCS",
        "outputId": "8eced540-2579-49f6-8810-5379c057e1a9"
      },
      "source": [
        "dictionary['name'] = 'aamir'\r\n",
        "dictionary['age'] = 30\r\n",
        "dictionary['Exp'] = 'CS'\r\n",
        "dictionary['Qual'] = 'MS'\r\n",
        "dictionary"
      ],
      "execution_count": 67,
      "outputs": [
        {
          "output_type": "execute_result",
          "data": {
            "text/plain": [
              "{'Exp': 'CS', 'Qual': 'MS', 'age': 30, 'name': 'aamir'}"
            ]
          },
          "metadata": {
            "tags": []
          },
          "execution_count": 67
        }
      ]
    },
    {
      "cell_type": "code",
      "metadata": {
        "colab": {
          "base_uri": "https://localhost:8080/"
        },
        "id": "jE8wzQgwskhu",
        "outputId": "e7a65c18-05ae-4deb-ae92-7fdd3107f2d4"
      },
      "source": [
        "dictionary.setdefault('name')\r\n",
        "dictionary['name'] = 'ali'\r\n",
        "dictionary"
      ],
      "execution_count": 70,
      "outputs": [
        {
          "output_type": "execute_result",
          "data": {
            "text/plain": [
              "{'Exp': 'CS', 'Qual': 'MS', 'age': 30, 'name': 'ali'}"
            ]
          },
          "metadata": {
            "tags": []
          },
          "execution_count": 70
        }
      ]
    },
    {
      "cell_type": "markdown",
      "metadata": {
        "id": "ZknLKbA1tO_H"
      },
      "source": [
        "# Dictionary Comprehension"
      ]
    },
    {
      "cell_type": "code",
      "metadata": {
        "colab": {
          "base_uri": "https://localhost:8080/"
        },
        "id": "pyPWMOVXtSf3",
        "outputId": "951d23e3-9e1d-4c8a-d882-260a93ba1513"
      },
      "source": [
        "prices_in_rs = {'milk': 120, 'coffe': 150, 'bread': 60}\r\n",
        "prices_in_rs"
      ],
      "execution_count": 75,
      "outputs": [
        {
          "output_type": "execute_result",
          "data": {
            "text/plain": [
              "{'bread': 60, 'coffe': 150, 'milk': 120}"
            ]
          },
          "metadata": {
            "tags": []
          },
          "execution_count": 75
        }
      ]
    },
    {
      "cell_type": "code",
      "metadata": {
        "colab": {
          "base_uri": "https://localhost:8080/"
        },
        "id": "t6LaCaY2udwH",
        "outputId": "45565131-0c3e-44eb-dae4-ca2dd7304fe3"
      },
      "source": [
        "dollar = 165\r\n",
        "price_in_dollar = {key:(value/dollar) for key,value in prices_in_rs.items()}\r\n",
        "price_in_dollar"
      ],
      "execution_count": 77,
      "outputs": [
        {
          "output_type": "execute_result",
          "data": {
            "text/plain": [
              "{'bread': 0.36363636363636365,\n",
              " 'coffe': 0.9090909090909091,\n",
              " 'milk': 0.7272727272727273}"
            ]
          },
          "metadata": {
            "tags": []
          },
          "execution_count": 77
        }
      ]
    }
  ]
}